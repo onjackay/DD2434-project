{
 "cells": [
  {
   "cell_type": "code",
   "execution_count": 1,
   "metadata": {},
   "outputs": [],
   "source": [
    "# Import libraries\n",
    "import numpy as np\n",
    "import numpy.random as np_rand\n",
    "from scipy.stats import beta, norm\n",
    "import matplotlib.pyplot as plt\n",
    "import seaborn as sns\n"
   ]
  },
  {
   "cell_type": "code",
   "execution_count": 260,
   "metadata": {},
   "outputs": [],
   "source": [
    "# Define parameters\n",
    "k = 20 # truncation level for truncated drichlet process\n",
    "alpha = 5 # concentration parameter for DP\n",
    "n_samples = 100 # Number of X sample points to generate\n",
    "num_of_gaussian_dim = 2 # Number of dimensions in Gaussian distribution from which X will be sampled\n",
    "rho = 0.8 # first-order autocorrelation coefficient for covariance matrix of Gaussian distribution from which X will be sampled\n",
    "variance_prior = 100 # variance of Gaussian baseline distribution in DP\n",
    "variance_sample = 4 # variance of the gaussion from which X will be sampled\n"
   ]
  },
  {
   "cell_type": "code",
   "execution_count": 261,
   "metadata": {},
   "outputs": [
    {
     "name": "stdout",
     "output_type": "stream",
     "text": [
      "base_mean: \n",
      " [0. 0.]\n",
      "base_cov: \n",
      " [[100.   0.]\n",
      " [  0. 100.]]\n"
     ]
    }
   ],
   "source": [
    "# Generate the baseline 2-dim Gaussion distribution prior of DP\n",
    "base_mean = np.zeros(num_of_gaussian_dim) # zero-mean Gaussian\n",
    "base_cov = np.eye(num_of_gaussian_dim) * variance_prior # scaled for comparison across dimensions (values should be of similar order)\n",
    "\n",
    "#base_cov = [[100, 0], [0, 100]]\n",
    "print(\"base_mean: \\n\", base_mean)\n",
    "print(\"base_cov: \\n\", base_cov)"
   ]
  },
  {
   "cell_type": "code",
   "execution_count": 262,
   "metadata": {},
   "outputs": [
    {
     "name": "stdout",
     "output_type": "stream",
     "text": [
      "eta_params:\n",
      " [[-19.6600232   -0.03872863]\n",
      " [ -1.64210464  -9.6067766 ]\n",
      " [-10.13180949  -0.29647944]\n",
      " [ 16.89058188 -10.38898356]\n",
      " [ -1.73574489 -11.20205715]\n",
      " [ -7.91944425  -6.20311133]\n",
      " [ -7.54135324  -2.00704401]\n",
      " [ 10.8282976   -0.27892468]\n",
      " [ 11.41019158   5.39124221]\n",
      " [  6.48896811   1.08722808]\n",
      " [ -3.38792803 -12.67800058]\n",
      " [ -0.5934941    3.8985584 ]\n",
      " [ -8.71639783  -2.18132325]\n",
      " [  4.03203914  -0.07229973]\n",
      " [  3.74649273  -6.39901138]\n",
      " [ 10.31392949  -6.61762239]\n",
      " [  9.23046248   4.79209365]\n",
      " [ -5.59653895  -0.9344578 ]\n",
      " [-13.67259311  -9.4221921 ]\n",
      " [  1.74820027  -6.59292338]]\n"
     ]
    }
   ],
   "source": [
    "# Generate eta from baseline distribution of DP (Unique values of means(each per dim) from the 2-dim gaussion prior distribution of DP)\n",
    "eta_params = np_rand.multivariate_normal(base_mean, base_cov, size=k)\n",
    "#means = norm.rvs(base_mean, base_cov) # draw normal random variables for means\n",
    "print(\"eta_params:\\n\", eta_params)"
   ]
  },
  {
   "cell_type": "code",
   "execution_count": 263,
   "metadata": {},
   "outputs": [
    {
     "name": "stdout",
     "output_type": "stream",
     "text": [
      "V_params:\n",
      "  [0.18252955 0.48343714 0.11269049 0.50101931 0.03161148 0.04103228\n",
      " 0.01949691 0.16173351 0.0972759  0.03717261 0.16569712 0.03333715\n",
      " 0.02989896 0.07518865 0.0785166  0.21999103 0.11394828 0.30083761\n",
      " 1.         0.15836772]\n",
      "theta_params:\n",
      "  [0.18252955 0.39519558 0.04758636 0.18772618 0.00591016 0.00742898\n",
      " 0.00338512 0.0275332  0.01388174 0.00478869 0.02055215 0.0034498\n",
      " 0.00299087 0.00729643 0.00704649 0.01819297 0.00735032 0.0171945\n",
      " 0.03996092 0.        ]\n"
     ]
    }
   ],
   "source": [
    "# DP using stick-breaking technique\n",
    "V_params = np_rand.beta(1, alpha, size=k)\n",
    "V_params[k-2] = 1 #Truncate DP construction at K by setting V_K-1 = 1, but in our case k index start from 0\n",
    "print(\"V_params:\\n \", V_params)\n",
    "\n",
    "theta_params = np.zeros(k) # initialize the theta_params\n",
    "remaining_stick = 1 # initialize the remaining stick length\n",
    "for i in range(k):\n",
    "    theta_params[i] = V_params[i] * remaining_stick # break the stick\n",
    "    remaining_stick *= (1 - V_params[i]) # update the remaining stick length\n",
    "print(\"theta_params:\\n \", theta_params)"
   ]
  },
  {
   "cell_type": "code",
   "execution_count": 264,
   "metadata": {},
   "outputs": [
    {
     "name": "stdout",
     "output_type": "stream",
     "text": [
      "cov matrix: \n",
      " [[4.  3.2]\n",
      " [3.2 4. ]]\n"
     ]
    }
   ],
   "source": [
    "# Generate the first-order autocorrelation fixed covariance matrix of Gaussian distribution from which X will be sampled\n",
    "cov = np.zeros((num_of_gaussian_dim, num_of_gaussian_dim)) # initialize the covariance matrix\n",
    "for i in range(num_of_gaussian_dim):\n",
    "    for j in range(num_of_gaussian_dim):\n",
    "            cov[i, j] = variance_sample*(rho ** abs(i - j)) # assign the value based on the distance\n",
    "\n",
    "#cov = [[3, 0.95], [0.95, 3]]\n",
    "print('cov matrix: \\n', cov)"
   ]
  },
  {
   "cell_type": "code",
   "execution_count": 265,
   "metadata": {},
   "outputs": [
    {
     "name": "stdout",
     "output_type": "stream",
     "text": [
      "Samples: \n",
      " [[ 15.24420728 -11.05768722]\n",
      " [ 18.38794078 -10.82332607]\n",
      " [ -8.85435617  -7.27831007]\n",
      " [ 20.37295448  -6.15796838]\n",
      " [ -1.3687821   -8.03203962]\n",
      " [ -4.00422468  -9.89629915]\n",
      " [ -2.65936147  -8.92815145]\n",
      " [ 17.40693293  -8.61573048]\n",
      " [ 13.5066693  -11.46590872]\n",
      " [-19.48765167   2.08961184]\n",
      " [ -0.63823793  -9.28423047]\n",
      " [ -1.78068633 -10.06607562]\n",
      " [ -1.87594053 -11.28625683]\n",
      " [ -4.79911765 -10.81193124]\n",
      " [ 17.70868076  -9.09955633]\n",
      " [ 16.41217093  -7.66317079]\n",
      " [  1.42108765  -9.52593936]\n",
      " [  2.68403397  -5.01853972]\n",
      " [ -8.77790424  -6.35944538]\n",
      " [-15.75012086   1.70589345]\n",
      " [ 10.93055409  -1.13647308]\n",
      " [ -4.0129043  -11.7834721 ]\n",
      " [-19.47225419  -0.40906414]\n",
      " [ -4.05620112   1.43204406]\n",
      " [ -1.21426412  -9.57142539]\n",
      " [ 15.00143075 -11.29433179]\n",
      " [ -1.38466931 -10.88013899]\n",
      " [ -0.90544979 -10.03291993]\n",
      " [ 16.61079573 -11.15010393]\n",
      " [ -6.43337893 -13.54406701]\n",
      " [ -1.52169469  -8.57463836]\n",
      " [  7.14966648   4.20967662]\n",
      " [ 16.14323077 -11.27619275]\n",
      " [-11.69861751  -1.04717737]\n",
      " [  1.4721263    6.44408984]\n",
      " [-20.22510525   0.11514342]\n",
      " [-20.04107701  -1.87813814]\n",
      " [ -2.36197465 -11.14176991]\n",
      " [ 15.00803808 -12.9575093 ]\n",
      " [  1.49693944  -5.17960903]\n",
      " [ -2.11159616  -9.51223254]\n",
      " [-20.84701483  -1.36661047]\n",
      " [ -1.24418452  -9.69224179]\n",
      " [ -0.81750145  -9.03497799]\n",
      " [ 13.12962029 -12.65755908]\n",
      " [-21.55671566  -3.35741471]\n",
      " [  3.22505138   0.20738912]\n",
      " [-11.13444584  -6.68493429]\n",
      " [-18.7780409    1.86366318]\n",
      " [-24.15268745  -5.40665676]\n",
      " [  9.96886759  -1.60808833]\n",
      " [  5.05520106  -4.37370324]\n",
      " [ -3.23924887 -11.25105117]\n",
      " [-19.84011475  -1.67330797]\n",
      " [  0.4698378   -8.71394066]\n",
      " [ 21.46798628  -6.90530997]\n",
      " [-22.91582484  -3.044289  ]\n",
      " [  0.8515133   -7.8149417 ]\n",
      " [-21.04146735   0.07679207]\n",
      " [ 17.49225203 -10.32587084]\n",
      " [-10.55057309  -1.71267113]\n",
      " [ 15.21233768 -12.47368171]\n",
      " [ -1.07475757  -9.03550221]\n",
      " [ -2.85544509 -13.08463702]\n",
      " [ -0.51240816  -9.4595311 ]\n",
      " [ -2.81061071 -10.64910065]\n",
      " [ -4.98431748   1.29682518]\n",
      " [-21.27003354  -2.37718491]\n",
      " [ -1.63722254 -10.75193936]\n",
      " [ -1.73146989 -11.08912601]\n",
      " [ -0.61745347  -8.81731232]\n",
      " [  2.62321796  -1.98311487]\n",
      " [-14.25968895 -10.04355625]\n",
      " [ -3.19415719 -10.68859205]\n",
      " [  8.99889581   0.64648037]\n",
      " [ -3.29403146 -10.03296088]\n",
      " [ -1.8167579   -9.45380743]\n",
      " [ -2.21899576 -10.2405121 ]\n",
      " [ 15.96582467 -10.39268666]\n",
      " [ 18.18935447  -8.38639983]\n",
      " [-19.38249693  -0.42595047]\n",
      " [-10.39568574  -0.66732646]\n",
      " [ 17.31003534  -8.79445221]\n",
      " [ -0.62062736  -8.00389729]\n",
      " [ -1.31928598  -9.2363856 ]\n",
      " [ 21.74504098  -6.20062244]\n",
      " [ -3.14173714 -13.37370952]\n",
      " [ -4.50360625 -12.51503032]\n",
      " [ 17.85434845  -7.42651639]\n",
      " [  0.13912064  -6.58413288]\n",
      " [ 14.80093938 -12.30816071]\n",
      " [-16.60127311   2.89675485]\n",
      " [-18.12217923  -1.14542395]\n",
      " [ -3.01733279  -9.70504221]\n",
      " [ -5.26691479 -14.49648863]\n",
      " [ 15.31851781 -11.69081573]\n",
      " [ -2.97380906 -12.37006003]\n",
      " [ -3.58267091 -14.31775832]\n",
      " [ -6.12672087 -13.37533561]\n",
      " [ -2.07360078  -9.61565645]]\n"
     ]
    },
    {
     "data": {
      "text/plain": [
       "<matplotlib.collections.PathCollection at 0x10e5ee75290>"
      ]
     },
     "execution_count": 265,
     "metadata": {},
     "output_type": "execute_result"
    },
    {
     "data": {
      "image/png": "[encoded data removed]",
      "text/plain": [
       "<Figure size 640x480 with 1 Axes>"
      ]
     },
     "metadata": {},
     "output_type": "display_data"
    }
   ],
   "source": [
    "# Generate the samples from the Gaussion-Gaussion distribution\n",
    "samples = np.zeros((n_samples, num_of_gaussian_dim)) # initialize the data matrix\n",
    "z_params = np.zeros(n_samples, dtype=int) # initilize the z parameter\n",
    "\n",
    "for i in range(n_samples):\n",
    "    z_params[i] = np_rand.choice(k, p=theta_params) # assign a cluster to each sample point\n",
    "    samples[i] = np_rand.multivariate_normal(eta_params[z_params[i]], cov) # draw a Sample point from the assigned cluster\n",
    "\n",
    "print(\"Samples: \\n\", samples)\n",
    "plt.scatter(samples[:,0],samples[:,1])"
   ]
  },
  {
   "cell_type": "markdown",
   "metadata": {},
   "source": []
  },
  {
   "cell_type": "code",
   "execution_count": null,
   "metadata": {},
   "outputs": [],
   "source": []
  }
 ],
 "metadata": {
  "kernelspec": {
   "display_name": "base",
   "language": "python",
   "name": "python3"
  },
  "language_info": {
   "codemirror_mode": {
    "name": "ipython",
    "version": 3
   },
   "file_extension": ".py",
   "mimetype": "text/x-python",
   "name": "python",
   "nbconvert_exporter": "python",
   "pygments_lexer": "ipython3",
   "version": "3.11.5"
  }
 },
 "nbformat": 4,
 "nbformat_minor": 2
}
