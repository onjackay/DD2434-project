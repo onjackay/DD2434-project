{
 "cells": [
  {
   "cell_type": "code",
   "execution_count": 49,
   "metadata": {},
   "outputs": [],
   "source": [
    "import numpy as np\n",
    "import numpy.random as np_rand\n",
    "import scipy.special as sc\n",
    "import matplotlib.pyplot as plt\n",
    "from sklearn.mixture import BayesianGaussianMixture\n",
    "from scipy.io import arff\n",
    "from numpy.lib.recfunctions import structured_to_unstructured\n",
    "from timeit import default_timer\n",
    "\n",
    "from dp import *"
   ]
  },
  {
   "cell_type": "code",
   "execution_count": 50,
   "metadata": {},
   "outputs": [],
   "source": [
    "# Define parameters\n",
    "k = 20 # truncation level for truncated drichlet process\n",
    "alpha = 5 # concentration parameter for DP\n",
    "n_samples = 100 # Number of X sample points to generate\n",
    "num_of_gaussian_dim = 2 # Number of dimensions in Gaussian distribution from which X will be sampled\n",
    "rho = 0.8 # first-order autocorrelation coefficient for covariance matrix of Gaussian distribution from which X will be sampled\n",
    "variance_prior = 100 # variance of Gaussian baseline distribution in DP\n",
    "variance_sample = 4 # variance of the gaussion from which X will be sampled\n"
   ]
  },
  {
   "cell_type": "code",
   "execution_count": 51,
   "metadata": {},
   "outputs": [
    {
     "name": "stdout",
     "output_type": "stream",
     "text": [
      "base_mean: \n",
      " [0. 0.]\n",
      "base_cov: \n",
      " [[100.   0.]\n",
      " [  0. 100.]]\n"
     ]
    }
   ],
   "source": [
    "# Generate the baseline 2-dim Gaussion distribution prior of DP\n",
    "base_mean = np.zeros(num_of_gaussian_dim) # zero-mean Gaussian\n",
    "base_cov = np.eye(num_of_gaussian_dim) * variance_prior # scaled for comparison across dimensions (values should be of similar order)\n",
    "\n",
    "#base_cov = [[100, 0], [0, 100]]\n",
    "print(\"base_mean: \\n\", base_mean)\n",
    "print(\"base_cov: \\n\", base_cov)"
   ]
  },
  {
   "cell_type": "code",
   "execution_count": 52,
   "metadata": {},
   "outputs": [
    {
     "name": "stdout",
     "output_type": "stream",
     "text": [
      "eta_params:\n",
      " [[ -1.33968354 -20.39941181]\n",
      " [-10.92027952 -20.46482418]\n",
      " [ -0.85638892   0.8906289 ]\n",
      " [ -8.30207129  17.205527  ]\n",
      " [-14.4366115   -2.03278043]\n",
      " [ -1.1127506  -24.83086575]\n",
      " [-14.07890514  -8.73685798]\n",
      " [ -2.28978526  -8.81383027]\n",
      " [ -6.23682174  -0.76660695]\n",
      " [ 17.63098015   3.03477452]\n",
      " [ -3.80625242  13.08851192]\n",
      " [  4.22704462   5.38242775]\n",
      " [ -7.14472709   1.60550852]\n",
      " [ 13.12509242  -2.54940056]\n",
      " [ 19.56125516  -9.28319993]\n",
      " [ -1.35188413 -16.48554435]\n",
      " [  9.99986384  -2.41039399]\n",
      " [ 16.14207682  -5.26522745]\n",
      " [-10.15144824   4.14078195]\n",
      " [  7.69000865 -18.29817594]]\n"
     ]
    }
   ],
   "source": [
    "# Generate eta from baseline distribution of DP (Unique values of means(each per dim) from the 2-dim gaussion prior distribution of DP)\n",
    "eta_params = np_rand.multivariate_normal(base_mean, base_cov, size=k)\n",
    "#means = norm.rvs(base_mean, base_cov) # draw normal random variables for means\n",
    "print(\"eta_params:\\n\", eta_params)"
   ]
  },
  {
   "cell_type": "code",
   "execution_count": 53,
   "metadata": {},
   "outputs": [
    {
     "name": "stdout",
     "output_type": "stream",
     "text": [
      "V_params:\n",
      "  [0.19016858 0.05629973 0.26945925 0.01355687 0.11399253 0.10873956\n",
      " 0.19577766 0.04888662 0.06532494 0.27136868 0.34067935 0.42882705\n",
      " 0.23386836 0.34658189 0.61650431 0.1041686  0.30230128 0.07399549\n",
      " 1.         0.15468028]\n",
      "theta_params:\n",
      "  [0.19016858 0.04559329 0.20593103 0.0075689  0.06278004 0.05306035\n",
      " 0.08514328 0.01709832 0.02173075 0.08437543 0.07718092 0.06405352\n",
      " 0.01995262 0.02265362 0.0263305  0.00170616 0.00443557 0.0007575\n",
      " 0.00947962 0.        ]\n"
     ]
    }
   ],
   "source": [
    "# DP using stick-breaking technique\n",
    "V_params = np_rand.beta(1, alpha, size=k)\n",
    "V_params[k-2] = 1 #Truncate DP construction at K by setting V_K-1 = 1, but in our case k index start from 0\n",
    "print(\"V_params:\\n \", V_params)\n",
    "\n",
    "theta_params = np.zeros(k) # initialize the theta_params\n",
    "remaining_stick = 1 # initialize the remaining stick length\n",
    "for i in range(k):\n",
    "    theta_params[i] = V_params[i] * remaining_stick # break the stick\n",
    "    remaining_stick *= (1 - V_params[i]) # update the remaining stick length\n",
    "print(\"theta_params:\\n \", theta_params)"
   ]
  },
  {
   "cell_type": "code",
   "execution_count": 54,
   "metadata": {},
   "outputs": [
    {
     "name": "stdout",
     "output_type": "stream",
     "text": [
      "cov matrix: \n",
      " [[4.  3.2]\n",
      " [3.2 4. ]]\n"
     ]
    }
   ],
   "source": [
    "# Generate the first-order autocorrelation fixed covariance matrix of Gaussian distribution from which X will be sampled\n",
    "cov = np.zeros((num_of_gaussian_dim, num_of_gaussian_dim)) # initialize the covariance matrix\n",
    "for i in range(num_of_gaussian_dim):\n",
    "    for j in range(num_of_gaussian_dim):\n",
    "            cov[i, j] = variance_sample*(rho ** abs(i - j)) # assign the value based on the distance\n",
    "\n",
    "#cov = [[3, 0.95], [0.95, 3]]\n",
    "print('cov matrix: \\n', cov)"
   ]
  },
  {
   "cell_type": "code",
   "execution_count": 55,
   "metadata": {},
   "outputs": [
    {
     "data": {
      "text/plain": [
       "<matplotlib.collections.PathCollection at 0x21cfa49e910>"
      ]
     },
     "execution_count": 55,
     "metadata": {},
     "output_type": "execute_result"
    },
    {
     "data": {
      "image/png": "[encoded data removed]",
      "text/plain": [
       "<Figure size 640x480 with 1 Axes>"
      ]
     },
     "metadata": {},
     "output_type": "display_data"
    }
   ],
   "source": [
    "# Generate the samples from the Gaussion-Gaussion distribution\n",
    "samples = np.zeros((n_samples, num_of_gaussian_dim)) # initialize the data matrix\n",
    "z_params = np.zeros(n_samples, dtype=int) # initilize the z parameter\n",
    "\n",
    "for i in range(n_samples):\n",
    "    z_params[i] = np_rand.choice(k, p=theta_params) # assign a cluster to each sample point\n",
    "    samples[i] = np_rand.multivariate_normal(eta_params[z_params[i]], cov) # draw a Sample point from the assigned cluster\n",
    "\n",
    "# print(\"Samples: \\n\", samples)\n",
    "plt.scatter(samples[:,0],samples[:,1])"
   ]
  },
  {
   "cell_type": "code",
   "execution_count": 56,
   "metadata": {},
   "outputs": [],
   "source": [
    "import itertools\n",
    "\n",
    "import matplotlib as mpl\n",
    "from scipy import linalg\n",
    "\n",
    "from sklearn import mixture\n",
    "\n",
    "color_iter = itertools.cycle([\"navy\", \"c\", \"cornflowerblue\", \"gold\", \"darkorange\"])\n",
    "\n",
    "def plot_results(X, Y_, means, covariances, index, title):\n",
    "    splot = plt.subplot(2, 1, 1 + index)\n",
    "    for i, (mean, covar, color) in enumerate(zip(means, covariances, color_iter)):\n",
    "        # covar = np.diag(covar)\n",
    "        v, w = linalg.eigh(covar)\n",
    "        v = 2.0 * np.sqrt(2.0) * np.sqrt(v)\n",
    "        u = w[0] / linalg.norm(w[0])\n",
    "        # as the DP will not use every component it has access to\n",
    "        # unless it needs it, we shouldn't plot the redundant\n",
    "        # components.\n",
    "        if not np.any(Y_ == i):\n",
    "            continue\n",
    "        plt.scatter(X[Y_ == i, 0], X[Y_ == i, 1], 0.8, color=color)\n",
    "\n",
    "        # Plot an ellipse to show the Gaussian component\n",
    "        angle = np.arctan(u[1] / u[0])\n",
    "        angle = 180.0 * angle / np.pi  # convert to degrees\n",
    "        ell = mpl.patches.Ellipse(mean, v[0], v[1], angle=180.0 + angle, color=color)\n",
    "        ell.set_clip_box(splot.bbox)\n",
    "        ell.set_alpha(0.5)\n",
    "        splot.add_artist(ell)\n",
    "\n",
    "    # plt.xlim(-20.0, 20.0)\n",
    "    # plt.ylim(-20.0, 20.0)\n",
    "    # plt.xticks(())\n",
    "    # plt.yticks(())\n",
    "    plt.title(title)"
   ]
  },
  {
   "cell_type": "code",
   "execution_count": 57,
   "metadata": {},
   "outputs": [
    {
     "name": "stdout",
     "output_type": "stream",
     "text": [
      "Initialization 0\n",
      "  Iteration 10\t time lapse 0.03400s\t ll change 0.00356\n",
      "Initialization converged: True\t time lapse 0.03499s\t ll -653.89159\n"
     ]
    },
    {
     "data": {
      "text/html": [
       "<style>#sk-container-id-7 {color: black;background-color: white;}#sk-container-id-7 pre{padding: 0;}#sk-container-id-7 div.sk-toggleable {background-color: white;}#sk-container-id-7 label.sk-toggleable__label {cursor: pointer;display: block;width: 100%;margin-bottom: 0;padding: 0.3em;box-sizing: border-box;text-align: center;}#sk-container-id-7 label.sk-toggleable__label-arrow:before {content: \"▸\";float: left;margin-right: 0.25em;color: #696969;}#sk-container-id-7 label.sk-toggleable__label-arrow:hover:before {color: black;}#sk-container-id-7 div.sk-estimator:hover label.sk-toggleable__label-arrow:before {color: black;}#sk-container-id-7 div.sk-toggleable__content {max-height: 0;max-width: 0;overflow: hidden;text-align: left;background-color: #f0f8ff;}#sk-container-id-7 div.sk-toggleable__content pre {margin: 0.2em;color: black;border-radius: 0.25em;background-color: #f0f8ff;}#sk-container-id-7 input.sk-toggleable__control:checked~div.sk-toggleable__content {max-height: 200px;max-width: 100%;overflow: auto;}#sk-container-id-7 input.sk-toggleable__control:checked~label.sk-toggleable__label-arrow:before {content: \"▾\";}#sk-container-id-7 div.sk-estimator input.sk-toggleable__control:checked~label.sk-toggleable__label {background-color: #d4ebff;}#sk-container-id-7 div.sk-label input.sk-toggleable__control:checked~label.sk-toggleable__label {background-color: #d4ebff;}#sk-container-id-7 input.sk-hidden--visually {border: 0;clip: rect(1px 1px 1px 1px);clip: rect(1px, 1px, 1px, 1px);height: 1px;margin: -1px;overflow: hidden;padding: 0;position: absolute;width: 1px;}#sk-container-id-7 div.sk-estimator {font-family: monospace;background-color: #f0f8ff;border: 1px dotted black;border-radius: 0.25em;box-sizing: border-box;margin-bottom: 0.5em;}#sk-container-id-7 div.sk-estimator:hover {background-color: #d4ebff;}#sk-container-id-7 div.sk-parallel-item::after {content: \"\";width: 100%;border-bottom: 1px solid gray;flex-grow: 1;}#sk-container-id-7 div.sk-label:hover label.sk-toggleable__label {background-color: #d4ebff;}#sk-container-id-7 div.sk-serial::before {content: \"\";position: absolute;border-left: 1px solid gray;box-sizing: border-box;top: 0;bottom: 0;left: 50%;z-index: 0;}#sk-container-id-7 div.sk-serial {display: flex;flex-direction: column;align-items: center;background-color: white;padding-right: 0.2em;padding-left: 0.2em;position: relative;}#sk-container-id-7 div.sk-item {position: relative;z-index: 1;}#sk-container-id-7 div.sk-parallel {display: flex;align-items: stretch;justify-content: center;background-color: white;position: relative;}#sk-container-id-7 div.sk-item::before, #sk-container-id-7 div.sk-parallel-item::before {content: \"\";position: absolute;border-left: 1px solid gray;box-sizing: border-box;top: 0;bottom: 0;left: 50%;z-index: -1;}#sk-container-id-7 div.sk-parallel-item {display: flex;flex-direction: column;z-index: 1;position: relative;background-color: white;}#sk-container-id-7 div.sk-parallel-item:first-child::after {align-self: flex-end;width: 50%;}#sk-container-id-7 div.sk-parallel-item:last-child::after {align-self: flex-start;width: 50%;}#sk-container-id-7 div.sk-parallel-item:only-child::after {width: 0;}#sk-container-id-7 div.sk-dashed-wrapped {border: 1px dashed gray;margin: 0 0.4em 0.5em 0.4em;box-sizing: border-box;padding-bottom: 0.4em;background-color: white;}#sk-container-id-7 div.sk-label label {font-family: monospace;font-weight: bold;display: inline-block;line-height: 1.2em;}#sk-container-id-7 div.sk-label-container {text-align: center;}#sk-container-id-7 div.sk-container {/* jupyter's `normalize.less` sets `[hidden] { display: none; }` but bootstrap.min.css set `[hidden] { display: none !important; }` so we also need the `!important` here to be able to override the default hidden behavior on the sphinx rendered scikit-learn.org. See: https://github.com/scikit-learn/scikit-learn/issues/21755 */display: inline-block !important;position: relative;}#sk-container-id-7 div.sk-text-repr-fallback {display: none;}</style><div id=\"sk-container-id-7\" class=\"sk-top-container\"><div class=\"sk-text-repr-fallback\"><pre>BayesianGaussianMixture(max_iter=1000, n_components=20, verbose=2)</pre><b>In a Jupyter environment, please rerun this cell to show the HTML representation or trust the notebook. <br />On GitHub, the HTML representation is unable to render, please try loading this page with nbviewer.org.</b></div><div class=\"sk-container\" hidden><div class=\"sk-item\"><div class=\"sk-estimator sk-toggleable\"><input class=\"sk-toggleable__control sk-hidden--visually\" id=\"sk-estimator-id-7\" type=\"checkbox\" checked><label for=\"sk-estimator-id-7\" class=\"sk-toggleable__label sk-toggleable__label-arrow\">BayesianGaussianMixture</label><div class=\"sk-toggleable__content\"><pre>BayesianGaussianMixture(max_iter=1000, n_components=20, verbose=2)</pre></div></div></div></div></div>"
      ],
      "text/plain": [
       "BayesianGaussianMixture(max_iter=1000, n_components=20, verbose=2)"
      ]
     },
     "execution_count": 57,
     "metadata": {},
     "output_type": "execute_result"
    }
   ],
   "source": [
    "# The scipy BGM do not provide a variance-fixed gaussian component option. \n",
    "bgm = BayesianGaussianMixture(n_components=k, weight_concentration_prior=None, n_init=1, covariance_type=\"full\", max_iter=1000, verbose=2)\n",
    "bgm.fit(samples)"
   ]
  },
  {
   "cell_type": "code",
   "execution_count": 58,
   "metadata": {},
   "outputs": [
    {
     "data": {
      "image/png": "[encoded data removed]",
      "text/plain": [
       "<Figure size 640x480 with 1 Axes>"
      ]
     },
     "metadata": {},
     "output_type": "display_data"
    }
   ],
   "source": [
    "plot_results(samples, bgm.predict(samples), bgm.means_, bgm.covariances_, 0, \"BGM\")"
   ]
  },
  {
   "cell_type": "code",
   "execution_count": null,
   "metadata": {},
   "outputs": [],
   "source": [
    "cov_samples = np.cov(samples.T)\n",
    "mu_samples = np.mean(samples, axis=0)\n",
    "myDp = DpGaussian(samples, alpha=1e0, Lmbda=cov_samples, mu0=mu_samples, Lmbda0=cov_samples, K=20)\n",
    "\n",
    "for i in range(10):\n",
    "    myDp.update()\n",
    "\n",
    "mu_out, cov_out = myDp.get_mean_and_cov()\n",
    "# plot_results(samples, )"
   ]
  }
 ],
 "metadata": {
  "kernelspec": {
   "display_name": "common",
   "language": "python",
   "name": "python3"
  },
  "language_info": {
   "codemirror_mode": {
    "name": "ipython",
    "version": 3
   },
   "file_extension": ".py",
   "mimetype": "text/x-python",
   "name": "python",
   "nbconvert_exporter": "python",
   "pygments_lexer": "ipython3",
   "version": "3.11.5"
  }
 },
 "nbformat": 4,
 "nbformat_minor": 2
}
